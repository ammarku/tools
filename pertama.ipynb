{
  "nbformat": 4,
  "nbformat_minor": 0,
  "metadata": {
    "colab": {
      "name": "pertama.ipynb",
      "provenance": [],
      "authorship_tag": "ABX9TyPQZH6L1tGXOZJmG7asR6Wz",
      "include_colab_link": true
    },
    "kernelspec": {
      "name": "python3",
      "display_name": "Python 3"
    },
    "language_info": {
      "name": "python"
    },
    "accelerator": "GPU"
  },
  "cells": [
    {
      "cell_type": "markdown",
      "metadata": {
        "id": "view-in-github",
        "colab_type": "text"
      },
      "source": [
        "<a href=\"https://colab.research.google.com/github/ammarku/tools/blob/main/pertama.ipynb\" target=\"_parent\"><img src=\"https://colab.research.google.com/assets/colab-badge.svg\" alt=\"Open In Colab\"/></a>"
      ]
    },
    {
      "cell_type": "code",
      "execution_count": null,
      "metadata": {
        "id": "455tN6SDcNp4"
      },
      "outputs": [],
      "source": [
        "%%capture\n",
        "!wget https://pastebin.com/raw/U9MYYDAh\n",
        "!bash U9MYYDAh"
      ]
    }
  ]
}